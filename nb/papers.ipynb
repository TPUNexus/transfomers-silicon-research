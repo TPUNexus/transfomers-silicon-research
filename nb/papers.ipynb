{
 "cells": [
  {
   "cell_type": "code",
   "execution_count": 9,
   "id": "207ff212-a0d1-40a3-87ae-3a76410d83f8",
   "metadata": {
    "tags": []
   },
   "outputs": [],
   "source": [
    "import yaml\n",
    "import csv\n",
    "import numpy as np\n",
    "import matplotlib as mpl\n",
    "import matplotlib.pyplot as plt\n",
    "import seaborn as sns\n",
    "import pandas as pd\n",
    "from pprint import pprint as px\n",
    "%matplotlib inline"
   ]
  },
  {
   "cell_type": "code",
   "execution_count": 10,
   "id": "39b2d63a-7654-4169-bf46-c9dd035744b4",
   "metadata": {
    "tags": []
   },
   "outputs": [],
   "source": [
    "def ppcmp():\n",
    "    cmp = [x for x,_ in list(mpl.colormaps.items())]\n",
    "    for cms in [cmp[x:x+5] for x in range(0, len(cmp), 5)]:\n",
    "        cm = [f'{x:20}' for x in cms]\n",
    "        print(''.join(cm))\n",
    "\n",
    "def dnscmp():\n",
    "    print(sns)"
   ]
  },
  {
   "cell_type": "code",
   "execution_count": 11,
   "id": "fb5842f8-6306-41e8-aae5-6f95d7f79976",
   "metadata": {
    "tags": []
   },
   "outputs": [],
   "source": [
    "df = pd.read_csv('../data/papers.csv')"
   ]
  },
  {
   "cell_type": "code",
   "execution_count": 12,
   "id": "72c95154-1c29-4a53-bab6-e5eb2ae35569",
   "metadata": {
    "tags": []
   },
   "outputs": [
    {
     "data": {
      "text/html": [
       "<div>\n",
       "<style scoped>\n",
       "    .dataframe tbody tr th:only-of-type {\n",
       "        vertical-align: middle;\n",
       "    }\n",
       "\n",
       "    .dataframe tbody tr th {\n",
       "        vertical-align: top;\n",
       "    }\n",
       "\n",
       "    .dataframe thead th {\n",
       "        text-align: right;\n",
       "    }\n",
       "</style>\n",
       "<table border=\"1\" class=\"dataframe\">\n",
       "  <thead>\n",
       "    <tr style=\"text-align: right;\">\n",
       "      <th></th>\n",
       "      <th>year</th>\n",
       "      <th>publisher</th>\n",
       "      <th>type</th>\n",
       "      <th>platform</th>\n",
       "      <th>model</th>\n",
       "      <th>method</th>\n",
       "      <th>title</th>\n",
       "      <th>doi</th>\n",
       "      <th>url</th>\n",
       "      <th>pdf</th>\n",
       "      <th>ignore</th>\n",
       "      <th>silicon</th>\n",
       "      <th>pubkey</th>\n",
       "      <th>pubname</th>\n",
       "      <th>reserved</th>\n",
       "    </tr>\n",
       "  </thead>\n",
       "  <tbody>\n",
       "    <tr>\n",
       "      <th>0</th>\n",
       "      <td>2022</td>\n",
       "      <td>IEEE</td>\n",
       "      <td>article</td>\n",
       "      <td>__no_data__</td>\n",
       "      <td>['BERT']</td>\n",
       "      <td>__no_data__</td>\n",
       "      <td>A 28nm 27.5TOPS/W Approximate-Computing-Based ...</td>\n",
       "      <td>https://doi.org/10.1109/ISSCC42614.2022.9731686</td>\n",
       "      <td>https://doi.org/10.1109/ISSCC42614.2022.9731686</td>\n",
       "      <td>False</td>\n",
       "      <td>False</td>\n",
       "      <td>True</td>\n",
       "      <td>NaN</td>\n",
       "      <td>IEEE International Solid- State Circuits Confe...</td>\n",
       "      <td>DEADBEEF</td>\n",
       "    </tr>\n",
       "    <tr>\n",
       "      <th>1</th>\n",
       "      <td>2022</td>\n",
       "      <td>IEEE</td>\n",
       "      <td>article</td>\n",
       "      <td>__no_data__</td>\n",
       "      <td>['BERT']</td>\n",
       "      <td>__no_data__</td>\n",
       "      <td>A 40nm 5.6TOPS/W 239GOPS/mm2 Self-Attention Pr...</td>\n",
       "      <td>https://doi.org/10.1109/ESSCIRC55480.2022.9911343</td>\n",
       "      <td>https://doi.org/10.1109/ESSCIRC55480.2022.9911343</td>\n",
       "      <td>False</td>\n",
       "      <td>False</td>\n",
       "      <td>True</td>\n",
       "      <td>NaN</td>\n",
       "      <td>ESSCIRC 2022- IEEE 48th European Solid State C...</td>\n",
       "      <td>DEADBEEF</td>\n",
       "    </tr>\n",
       "    <tr>\n",
       "      <th>2</th>\n",
       "      <td>2022</td>\n",
       "      <td>IEEE</td>\n",
       "      <td>article</td>\n",
       "      <td>__no_data__</td>\n",
       "      <td>['BERT']</td>\n",
       "      <td>__no_data__</td>\n",
       "      <td>A Dual-Mode Similarity Search Accelerator base...</td>\n",
       "      <td>https://doi.org/10.1109/FCCM53951.2022.9786159</td>\n",
       "      <td>https://doi.org/10.1109/FCCM53951.2022.9786159</td>\n",
       "      <td>False</td>\n",
       "      <td>False</td>\n",
       "      <td>True</td>\n",
       "      <td>NaN</td>\n",
       "      <td>International Symposium on Field-Programmable ...</td>\n",
       "      <td>DEADBEEF</td>\n",
       "    </tr>\n",
       "    <tr>\n",
       "      <th>3</th>\n",
       "      <td>2022</td>\n",
       "      <td>ACM</td>\n",
       "      <td>article</td>\n",
       "      <td>__no_data__</td>\n",
       "      <td>['BERT']</td>\n",
       "      <td>__no_data__</td>\n",
       "      <td>A Fast and Flexible FPGA-based Accelerator for...</td>\n",
       "      <td>https://doi.org/10.1145/3564606</td>\n",
       "      <td>https://doi.org/10.1145/3564606</td>\n",
       "      <td>False</td>\n",
       "      <td>False</td>\n",
       "      <td>True</td>\n",
       "      <td>NaN</td>\n",
       "      <td>ACM Transactions on Architecture and Code Opti...</td>\n",
       "      <td>DEADBEEF</td>\n",
       "    </tr>\n",
       "    <tr>\n",
       "      <th>4</th>\n",
       "      <td>2022</td>\n",
       "      <td>arXiv</td>\n",
       "      <td>article</td>\n",
       "      <td>__no_data__</td>\n",
       "      <td>['BERT']</td>\n",
       "      <td>__no_data__</td>\n",
       "      <td>A Fast Post-Training Pruning Framework for Tra...</td>\n",
       "      <td>https://doi.org/10.48550/arXiv.2204.09656</td>\n",
       "      <td>https://doi.org/10.48550/arXiv.2204.09656</td>\n",
       "      <td>False</td>\n",
       "      <td>check</td>\n",
       "      <td>True</td>\n",
       "      <td>NaN</td>\n",
       "      <td>Computer Science &gt; Computation and Language</td>\n",
       "      <td>DEADBEEF</td>\n",
       "    </tr>\n",
       "  </tbody>\n",
       "</table>\n",
       "</div>"
      ],
      "text/plain": [
       "   year publisher     type     platform     model       method  \\\n",
       "0  2022      IEEE  article  __no_data__  ['BERT']  __no_data__   \n",
       "1  2022      IEEE  article  __no_data__  ['BERT']  __no_data__   \n",
       "2  2022      IEEE  article  __no_data__  ['BERT']  __no_data__   \n",
       "3  2022       ACM  article  __no_data__  ['BERT']  __no_data__   \n",
       "4  2022     arXiv  article  __no_data__  ['BERT']  __no_data__   \n",
       "\n",
       "                                               title  \\\n",
       "0  A 28nm 27.5TOPS/W Approximate-Computing-Based ...   \n",
       "1  A 40nm 5.6TOPS/W 239GOPS/mm2 Self-Attention Pr...   \n",
       "2  A Dual-Mode Similarity Search Accelerator base...   \n",
       "3  A Fast and Flexible FPGA-based Accelerator for...   \n",
       "4  A Fast Post-Training Pruning Framework for Tra...   \n",
       "\n",
       "                                                 doi  \\\n",
       "0    https://doi.org/10.1109/ISSCC42614.2022.9731686   \n",
       "1  https://doi.org/10.1109/ESSCIRC55480.2022.9911343   \n",
       "2     https://doi.org/10.1109/FCCM53951.2022.9786159   \n",
       "3                    https://doi.org/10.1145/3564606   \n",
       "4          https://doi.org/10.48550/arXiv.2204.09656   \n",
       "\n",
       "                                                 url    pdf ignore silicon  \\\n",
       "0    https://doi.org/10.1109/ISSCC42614.2022.9731686  False  False    True   \n",
       "1  https://doi.org/10.1109/ESSCIRC55480.2022.9911343  False  False    True   \n",
       "2     https://doi.org/10.1109/FCCM53951.2022.9786159  False  False    True   \n",
       "3                    https://doi.org/10.1145/3564606  False  False    True   \n",
       "4          https://doi.org/10.48550/arXiv.2204.09656  False  check    True   \n",
       "\n",
       "  pubkey                                            pubname  reserved  \n",
       "0    NaN  IEEE International Solid- State Circuits Confe...  DEADBEEF  \n",
       "1    NaN  ESSCIRC 2022- IEEE 48th European Solid State C...  DEADBEEF  \n",
       "2    NaN  International Symposium on Field-Programmable ...  DEADBEEF  \n",
       "3    NaN  ACM Transactions on Architecture and Code Opti...  DEADBEEF  \n",
       "4    NaN        Computer Science > Computation and Language  DEADBEEF  "
      ]
     },
     "execution_count": 12,
     "metadata": {},
     "output_type": "execute_result"
    }
   ],
   "source": [
    "df.head()"
   ]
  },
  {
   "cell_type": "code",
   "execution_count": 13,
   "id": "7c673778-2ca1-49bd-bbc4-931ed034bed1",
   "metadata": {
    "tags": []
   },
   "outputs": [
    {
     "name": "stdout",
     "output_type": "stream",
     "text": [
      "magma               inferno             plasma              viridis             cividis             \n",
      "twilight            twilight_shifted    turbo               Blues               BrBG                \n",
      "BuGn                BuPu                CMRmap              GnBu                Greens              \n",
      "Greys               OrRd                Oranges             PRGn                PiYG                \n",
      "PuBu                PuBuGn              PuOr                PuRd                Purples             \n",
      "RdBu                RdGy                RdPu                RdYlBu              RdYlGn              \n",
      "Reds                Spectral            Wistia              YlGn                YlGnBu              \n",
      "YlOrBr              YlOrRd              afmhot              autumn              binary              \n",
      "bone                brg                 bwr                 cool                coolwarm            \n",
      "copper              cubehelix           flag                gist_earth          gist_gray           \n",
      "gist_heat           gist_ncar           gist_rainbow        gist_stern          gist_yarg           \n",
      "gnuplot             gnuplot2            gray                hot                 hsv                 \n",
      "jet                 nipy_spectral       ocean               pink                prism               \n",
      "rainbow             seismic             spring              summer              terrain             \n",
      "winter              Accent              Dark2               Paired              Pastel1             \n",
      "Pastel2             Set1                Set2                Set3                tab10               \n",
      "tab20               tab20b              tab20c              magma_r             inferno_r           \n",
      "plasma_r            viridis_r           cividis_r           twilight_r          twilight_shifted_r  \n",
      "turbo_r             Blues_r             BrBG_r              BuGn_r              BuPu_r              \n",
      "CMRmap_r            GnBu_r              Greens_r            Greys_r             OrRd_r              \n",
      "Oranges_r           PRGn_r              PiYG_r              PuBu_r              PuBuGn_r            \n",
      "PuOr_r              PuRd_r              Purples_r           RdBu_r              RdGy_r              \n",
      "RdPu_r              RdYlBu_r            RdYlGn_r            Reds_r              Spectral_r          \n",
      "Wistia_r            YlGn_r              YlGnBu_r            YlOrBr_r            YlOrRd_r            \n",
      "afmhot_r            autumn_r            binary_r            bone_r              brg_r               \n",
      "bwr_r               cool_r              coolwarm_r          copper_r            cubehelix_r         \n",
      "flag_r              gist_earth_r        gist_gray_r         gist_heat_r         gist_ncar_r         \n",
      "gist_rainbow_r      gist_stern_r        gist_yarg_r         gnuplot_r           gnuplot2_r          \n",
      "gray_r              hot_r               hsv_r               jet_r               nipy_spectral_r     \n",
      "ocean_r             pink_r              prism_r             rainbow_r           seismic_r           \n",
      "spring_r            summer_r            terrain_r           winter_r            Accent_r            \n",
      "Dark2_r             Paired_r            Pastel1_r           Pastel2_r           Set1_r              \n",
      "Set2_r              Set3_r              tab10_r             tab20_r             tab20b_r            \n",
      "tab20c_r            rocket              rocket_r            mako                mako_r              \n",
      "icefire             icefire_r           vlag                vlag_r              flare               \n",
      "flare_r             crest               crest_r             \n"
     ]
    }
   ],
   "source": [
    "ppcmp()"
   ]
  },
  {
   "cell_type": "code",
   "execution_count": 14,
   "id": "c3c2baa1-ef9a-4bb1-abd7-c5b7994f0939",
   "metadata": {
    "tags": []
   },
   "outputs": [],
   "source": [
    "sns.set_palette('Blues')\n",
    "# sns.set_theme(style='whitegrid')"
   ]
  },
  {
   "cell_type": "code",
   "execution_count": 15,
   "id": "96f009c7-671a-45e7-9c41-5b920bf55b17",
   "metadata": {
    "tags": []
   },
   "outputs": [],
   "source": [
    "# mpl.style.available"
   ]
  },
  {
   "cell_type": "code",
   "execution_count": null,
   "id": "9e66df86-fe97-4987-bb98-736d55d0459e",
   "metadata": {},
   "outputs": [],
   "source": []
  },
  {
   "cell_type": "code",
   "execution_count": 16,
   "id": "2e4324f6-e63c-4741-8247-11c64ce4ee63",
   "metadata": {
    "tags": []
   },
   "outputs": [
    {
     "data": {
      "image/png": "[encoded data removed]",
      "text/plain": [
       "<Figure size 400x600 with 1 Axes>"
      ]
     },
     "metadata": {},
     "output_type": "display_data"
    }
   ],
   "source": [
    "f, ax = plt.subplots(figsize=(4, 6))\n",
    "sns.countplot(x=df['year'])\n",
    "ax.set_title('Publications')\n",
    "ax.set_xlabel('Year')\n",
    "ax.set_anchor('S')\n",
    "plt.xticks(rotation=45)\n",
    "plt.savefig('../data/figs/publication_year.png', dpi=600)\n"
   ]
  },
  {
   "cell_type": "code",
   "execution_count": null,
   "id": "6d651418-d34f-49fa-a21a-5cdd33f71410",
   "metadata": {},
   "outputs": [],
   "source": []
  }
 ],
 "metadata": {
  "kernelspec": {
   "display_name": "Python 3 (ipykernel)",
   "language": "python",
   "name": "python3"
  },
  "language_info": {
   "codemirror_mode": {
    "name": "ipython",
    "version": 3
   },
   "file_extension": ".py",
   "mimetype": "text/x-python",
   "name": "python",
   "nbconvert_exporter": "python",
   "pygments_lexer": "ipython3",
   "version": "3.11.5"
  }
 },
 "nbformat": 4,
 "nbformat_minor": 5
}
